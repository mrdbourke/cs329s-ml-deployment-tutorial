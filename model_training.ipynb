{
  "cells": [
    {
      "cell_type": "markdown",
      "metadata": {
        "colab_type": "text",
        "id": "view-in-github"
      },
      "source": [
        "<a href=\"https://colab.research.google.com/github/mrdbourke/cs329s-ml-deployment-tutorial/blob/main/model_training.ipynb\" target=\"_parent\"><img src=\"https://colab.research.google.com/assets/colab-badge.svg\" alt=\"Open In Colab\"/></a>"
      ]
    },
    {
      "cell_type": "markdown",
      "metadata": {
        "id": "UTWetPM7AWfY"
      },
      "source": [
        "# Let's train some models we can deploy...\n",
        "\n",
        "Model code to go along with [CS329s machine learning model deployment tutorial](https://github.com/mrdbourke/cs329s-ml-deployment-tutorial). \n",
        "\n",
        "* **Want:** [`SavedModel`](https://www.tensorflow.org/guide/saved_model) format to upload to Google Storage (GS).\n",
        "* **Data:** Different slices of [Food101 dataset](https://www.kaggle.com/dansbecker/food-101).\n",
        "* **Model(s):** [EfficientNetB0](https://www.tensorflow.org/api_docs/python/tf/keras/applications/EfficientNetB0) backbone's with different output layers (e.g. 10 classes, 11 classes, 12 classes).\n"
      ]
    },
    {
      "cell_type": "code",
      "execution_count": 1,
      "metadata": {
        "colab": {
          "base_uri": "https://localhost:8080/"
        },
        "id": "Nq4kxIpQMpZT",
        "outputId": "ab7de6e3-17fb-4334-9619-8f9437c8c798",
        "vscode": {
          "languageId": "python"
        }
      },
      "outputs": [
        {
          "name": "stdout",
          "output_type": "stream",
          "text": [
            "Sun Feb 14 05:54:43 2021       \n",
            "+-----------------------------------------------------------------------------+\n",
            "| NVIDIA-SMI 460.39       Driver Version: 460.32.03    CUDA Version: 11.2     |\n",
            "|-------------------------------+----------------------+----------------------+\n",
            "| GPU  Name        Persistence-M| Bus-Id        Disp.A | Volatile Uncorr. ECC |\n",
            "| Fan  Temp  Perf  Pwr:Usage/Cap|         Memory-Usage | GPU-Util  Compute M. |\n",
            "|                               |                      |               MIG M. |\n",
            "|===============================+======================+======================|\n",
            "|   0  Tesla T4            Off  | 00000000:00:04.0 Off |                    0 |\n",
            "| N/A   54C    P8    10W /  70W |      0MiB / 15109MiB |      0%      Default |\n",
            "|                               |                      |                  N/A |\n",
            "+-------------------------------+----------------------+----------------------+\n",
            "                                                                               \n",
            "+-----------------------------------------------------------------------------+\n",
            "| Processes:                                                                  |\n",
            "|  GPU   GI   CI        PID   Type   Process name                  GPU Memory |\n",
            "|        ID   ID                                                   Usage      |\n",
            "|=============================================================================|\n",
            "|  No running processes found                                                 |\n",
            "+-----------------------------------------------------------------------------+\n"
          ]
        }
      ],
      "source": [
        "# Are we using a GPU? If not: go to Runtime -> Change runtime type -> Hardware accelerator: GPU\n",
        "!nvidia-smi"
      ]
    },
    {
      "cell_type": "markdown",
      "metadata": {
        "id": "Ol3NDTVlRLSv"
      },
      "source": [
        "If the cell above doesn't output something which looks like:\n",
        "\n",
        "```\n",
        "Fri Sep  4 03:35:21 2020       \n",
        "+-----------------------------------------------------------------------------+\n",
        "| NVIDIA-SMI 450.66       Driver Version: 418.67       CUDA Version: 10.1     |\n",
        "|-------------------------------+----------------------+----------------------+\n",
        "| GPU  Name        Persistence-M| Bus-Id        Disp.A | Volatile Uncorr. ECC |\n",
        "| Fan  Temp  Perf  Pwr:Usage/Cap|         Memory-Usage | GPU-Util  Compute M. |\n",
        "|                               |                      |               MIG M. |\n",
        "|===============================+======================+======================|\n",
        "|   0  Tesla P100-PCIE...  Off  | 00000000:00:04.0 Off |                    0 |\n",
        "| N/A   35C    P0    26W / 250W |      0MiB / 16280MiB |      0%      Default |\n",
        "|                               |                      |                 ERR! |\n",
        "+-------------------------------+----------------------+----------------------+\n",
        "                                                                               \n",
        "+-----------------------------------------------------------------------------+\n",
        "| Processes:                                                                  |\n",
        "|  GPU   GI   CI        PID   Type   Process name                  GPU Memory |\n",
        "|        ID   ID                                                   Usage      |\n",
        "|=============================================================================|\n",
        "|  No running processes found                                                 |\n",
        "+-----------------------------------------------------------------------------+\n",
        "```\n",
        "\n",
        "Go to Runtime -> Change Runtime Type -> Hardware Accelerator and select \"GPU\", then rerun the cell above."
      ]
    },
    {
      "cell_type": "markdown",
      "metadata": {
        "id": "Bk-UIzd_SA5T"
      },
      "source": [
        "## Setup helper functions"
      ]
    },
    {
      "cell_type": "code",
      "execution_count": 2,
      "metadata": {
        "id": "r9IdsOGuLYVK",
        "vscode": {
          "languageId": "python"
        }
      },
      "outputs": [],
      "source": [
        "import zipfile\n",
        "import tensorflow as tf\n",
        "from tensorflow import keras\n",
        "from tensorflow.keras import layers\n",
        "from tensorflow.keras.layers.experimental import preprocessing\n",
        "\n",
        "# Unzip the downloaded file\n",
        "def unzip_data(filename):\n",
        "  \"\"\"\n",
        "  Utility function to unzip a zipped file.\n",
        "  \"\"\"\n",
        "  zip_ref = zipfile.ZipFile(filename, \"r\")\n",
        "  zip_ref.extractall()\n",
        "  zip_ref.close()"
      ]
    },
    {
      "cell_type": "code",
      "execution_count": 3,
      "metadata": {
        "id": "C_1Ol5LZXrb8",
        "vscode": {
          "languageId": "python"
        }
      },
      "outputs": [],
      "source": [
        "# Setup data inputs\n",
        "IMG_SIZE = (224, 224)\n",
        "\n",
        "def create_data_loaders(train_dir, test_dir, image_size=IMG_SIZE):\n",
        "  \"\"\"\n",
        "  Creates a training and test image BatchDataset from train_dir and test_dir.\n",
        "  \"\"\"\n",
        "  train_data = tf.keras.preprocessing.image_dataset_from_directory(train_dir,\n",
        "                                                                  label_mode=\"categorical\",\n",
        "                                                                  image_size=image_size)\n",
        "  # Note: the test data is the same as the previous experiment, we could\n",
        "  # skip creating this, but we'll leave this here to practice.\n",
        "  test_data = tf.keras.preprocessing.image_dataset_from_directory(test_dir,\n",
        "                                                                  label_mode=\"categorical\",\n",
        "                                                                  image_size=image_size)\n",
        "  \n",
        "  return train_data, test_data"
      ]
    },
    {
      "cell_type": "code",
      "execution_count": 4,
      "metadata": {
        "id": "s1Icsoq0YYRb",
        "vscode": {
          "languageId": "python"
        }
      },
      "outputs": [],
      "source": [
        "# Create a data augmentation stage with horizontal flipping, rotations, zooms\n",
        "data_augmentation = keras.Sequential([\n",
        "  preprocessing.RandomFlip(\"horizontal\"),\n",
        "  preprocessing.RandomRotation(0.2),\n",
        "  preprocessing.RandomZoom(0.2),\n",
        "  preprocessing.RandomHeight(0.2),\n",
        "  preprocessing.RandomWidth(0.2),\n",
        "  # preprocessing.Rescaling(1./255) # keep for ResNet50V2, remove for EfficientNetB0\n",
        "], name =\"data_augmentation\")"
      ]
    },
    {
      "cell_type": "code",
      "execution_count": 5,
      "metadata": {
        "colab": {
          "base_uri": "https://localhost:8080/"
        },
        "id": "kn5qDRF8XqLs",
        "outputId": "ef83fb12-64a5-4401-f5da-b1485fb91d3a",
        "vscode": {
          "languageId": "python"
        }
      },
      "outputs": [
        {
          "name": "stdout",
          "output_type": "stream",
          "text": [
            "Downloading data from https://storage.googleapis.com/keras-applications/efficientnetb0_notop.h5\n",
            "16711680/16705208 [==============================] - 0s 0us/step\n"
          ]
        }
      ],
      "source": [
        "# Setup input shape and base model, freezing the base model layers\n",
        "INPUT_SHAPE = (224, 224, 3)\n",
        "BASE_MODEL = tf.keras.applications.EfficientNetB0(include_top=False)\n",
        "\n",
        "def create_model(input_shape=INPUT_SHAPE, base_model=BASE_MODEL, num_classes=10):\n",
        "  # Fine-tune?\n",
        "  base_model.trainable = False\n",
        "\n",
        "  # Create input layer\n",
        "  inputs = layers.Input(shape=input_shape, name=\"input_layer\")\n",
        "\n",
        "  # Add in data augmentation Sequential model as a layer\n",
        "  x = data_augmentation(inputs)\n",
        "\n",
        "  # Give base_model inputs (after augmentation) and don't train it\n",
        "  x = base_model(x, training=False)\n",
        "\n",
        "  # Pool output features of base model\n",
        "  x = layers.GlobalAveragePooling2D(name=\"global_average_pooling_layer\")(x)\n",
        "\n",
        "  # Put a dense layer on as the output\n",
        "  outputs = layers.Dense(num_classes, activation=\"softmax\", name=\"output_layer\")(x)\n",
        "\n",
        "  # Make a model with inputs and outputs\n",
        "  model = keras.Model(inputs, outputs)\n",
        "\n",
        "  # Compile the model\n",
        "  model.compile(loss=\"categorical_crossentropy\",\n",
        "                optimizer=tf.keras.optimizers.Adam(),\n",
        "                metrics=[\"accuracy\"])\n",
        "  \n",
        "  return model"
      ]
    },
    {
      "cell_type": "code",
      "execution_count": 6,
      "metadata": {
        "id": "h5w0PI1pOl7I",
        "vscode": {
          "languageId": "python"
        }
      },
      "outputs": [],
      "source": [
        "# Create a function to import an image and resize it to be able to be used with our model\n",
        "def load_and_prep_image(filename, img_shape=224, scale=False):\n",
        "  \"\"\"\n",
        "  Reads in an image from filename, turns it into a tensor and reshapes into\n",
        "  (224, 224, 3).\n",
        "  \"\"\"\n",
        "  # Read in the image\n",
        "  img = tf.io.read_file(filename)\n",
        "  # Decode it into a tensor\n",
        "  img = tf.image.decode_jpeg(img)\n",
        "  # Resize the image\n",
        "  img = tf.image.resize(img, [img_shape, img_shape])\n",
        "  # Rescale the image (get all values between 0 and 1)\n",
        "  if scale:\n",
        "    return img/255.\n",
        "  else:\n",
        "    return img"
      ]
    },
    {
      "cell_type": "markdown",
      "metadata": {
        "id": "UIwVrX6vXb4z"
      },
      "source": [
        "## Download data"
      ]
    },
    {
      "cell_type": "code",
      "execution_count": 7,
      "metadata": {
        "colab": {
          "base_uri": "https://localhost:8080/"
        },
        "id": "qwWwP657Szfv",
        "outputId": "004ed027-ab11-4541-c95d-f912779a8c81",
        "vscode": {
          "languageId": "python"
        }
      },
      "outputs": [
        {
          "name": "stdout",
          "output_type": "stream",
          "text": [
            "--2021-02-14 05:54:52--  https://storage.googleapis.com/ztm_tf_course/food_vision/10_food_classes_all_data.zip\n",
            "Resolving storage.googleapis.com (storage.googleapis.com)... 74.125.20.128, 74.125.142.128, 74.125.195.128, ...\n",
            "Connecting to storage.googleapis.com (storage.googleapis.com)|74.125.20.128|:443... connected.\n",
            "HTTP request sent, awaiting response... 200 OK\n",
            "Length: 519184959 (495M) [application/zip]\n",
            "Saving to: ‘10_food_classes_all_data.zip’\n",
            "\n",
            "10_food_classes_all 100%[===================>] 495.13M  93.4MB/s    in 5.3s    \n",
            "\n",
            "2021-02-14 05:54:58 (93.4 MB/s) - ‘10_food_classes_all_data.zip’ saved [519184959/519184959]\n",
            "\n"
          ]
        }
      ],
      "source": [
        "# Get data\n",
        "import zipfile\n",
        "\n",
        "# Download data (10 class subset of Food101 - https://www.kaggle.com/dansbecker/food-101)\n",
        "# Already formatted in standard image classification directory style\n",
        "!wget https://storage.googleapis.com/ztm_tf_course/food_vision/10_food_classes_all_data.zip\n",
        "\n",
        "unzip_data(\"10_food_classes_all_data.zip\")"
      ]
    },
    {
      "cell_type": "code",
      "execution_count": 8,
      "metadata": {
        "colab": {
          "base_uri": "https://localhost:8080/"
        },
        "id": "agzJYtfFBl6I",
        "outputId": "da62030b-260b-479d-e71c-14c20b65b39b",
        "vscode": {
          "languageId": "python"
        }
      },
      "outputs": [
        {
          "name": "stdout",
          "output_type": "stream",
          "text": [
            "There are 2 directories and 1 images in '10_food_classes_all_data'.\n",
            "There are 10 directories and 0 images in '10_food_classes_all_data/train'.\n",
            "There are 0 directories and 750 images in '10_food_classes_all_data/train/ice_cream'.\n",
            "There are 0 directories and 750 images in '10_food_classes_all_data/train/ramen'.\n",
            "There are 0 directories and 750 images in '10_food_classes_all_data/train/chicken_wings'.\n",
            "There are 0 directories and 750 images in '10_food_classes_all_data/train/pizza'.\n",
            "There are 0 directories and 750 images in '10_food_classes_all_data/train/steak'.\n",
            "There are 0 directories and 750 images in '10_food_classes_all_data/train/fried_rice'.\n",
            "There are 0 directories and 750 images in '10_food_classes_all_data/train/hamburger'.\n",
            "There are 0 directories and 750 images in '10_food_classes_all_data/train/grilled_salmon'.\n",
            "There are 0 directories and 750 images in '10_food_classes_all_data/train/sushi'.\n",
            "There are 0 directories and 750 images in '10_food_classes_all_data/train/chicken_curry'.\n",
            "There are 10 directories and 0 images in '10_food_classes_all_data/test'.\n",
            "There are 0 directories and 250 images in '10_food_classes_all_data/test/ice_cream'.\n",
            "There are 0 directories and 250 images in '10_food_classes_all_data/test/ramen'.\n",
            "There are 0 directories and 250 images in '10_food_classes_all_data/test/chicken_wings'.\n",
            "There are 0 directories and 250 images in '10_food_classes_all_data/test/pizza'.\n",
            "There are 0 directories and 250 images in '10_food_classes_all_data/test/steak'.\n",
            "There are 0 directories and 250 images in '10_food_classes_all_data/test/fried_rice'.\n",
            "There are 0 directories and 250 images in '10_food_classes_all_data/test/hamburger'.\n",
            "There are 0 directories and 250 images in '10_food_classes_all_data/test/grilled_salmon'.\n",
            "There are 0 directories and 250 images in '10_food_classes_all_data/test/sushi'.\n",
            "There are 0 directories and 250 images in '10_food_classes_all_data/test/chicken_curry'.\n"
          ]
        }
      ],
      "source": [
        "# How many images in each folder?\n",
        "import os\n",
        "\n",
        "# Walk through 10 percent data directory and list number of files\n",
        "for dirpath, dirnames, filenames in os.walk(\"10_food_classes_all_data\"):\n",
        "  print(f\"There are {len(dirnames)} directories and {len(filenames)} images in '{dirpath}'.\")"
      ]
    },
    {
      "cell_type": "code",
      "execution_count": 9,
      "metadata": {
        "colab": {
          "base_uri": "https://localhost:8080/"
        },
        "id": "34VT7QiuL7Il",
        "outputId": "4df6609b-3511-466e-9810-3e84a6847d6e",
        "vscode": {
          "languageId": "python"
        }
      },
      "outputs": [
        {
          "name": "stdout",
          "output_type": "stream",
          "text": [
            "total 28\n",
            "drwxr-xr-x  4 root root 4096 Feb 14 05:54 .\n",
            "drwxr-xr-x  1 root root 4096 Feb 14 05:54 ..\n",
            "-rw-r--r--  1 root root 8196 Feb 14 05:54 .DS_Store\n",
            "drwxr-xr-x 12 root root 4096 Feb 14 05:54 test\n",
            "drwxr-xr-x 12 root root 4096 Feb 14 05:54 train\n"
          ]
        }
      ],
      "source": [
        "# Check the file in 10_food_classes_10_percent\n",
        "!ls -la 10_food_classes_all_data"
      ]
    },
    {
      "cell_type": "code",
      "execution_count": null,
      "metadata": {
        "id": "TwxIlyH2B8PG",
        "vscode": {
          "languageId": "python"
        }
      },
      "outputs": [],
      "source": [
        "## That one pesky file that always gets stuck\n",
        "#!rm 10_food_classes_10_percent/.DS_Store"
      ]
    },
    {
      "cell_type": "markdown",
      "metadata": {
        "id": "F0r-zyagV7Qa"
      },
      "source": [
        "Notice how each of the training directories now has 75 images rather than 750 images. This is key to demonstrating how well transfer learning can perform with less labelled images.\n",
        "\n",
        "The test directories still have the same amount of images. This means we'll be training on less data but evaluating our models on the same amount of test data."
      ]
    },
    {
      "cell_type": "code",
      "execution_count": null,
      "metadata": {
        "id": "2yamhJ8xJA5x",
        "vscode": {
          "languageId": "python"
        }
      },
      "outputs": [],
      "source": [
        "# Create tensorboard callback (functionized because need to create a new one for each model)\n",
        "import datetime\n",
        "def create_tensorboard_callback(dir_name, experiment_name):\n",
        "  log_dir = dir_name + \"/\" + experiment_name + \"/\" + datetime.datetime.now().strftime(\"%Y%m%d-%H%M%S\")\n",
        "  tensorboard_callback = tf.keras.callbacks.TensorBoard(\n",
        "      log_dir=log_dir\n",
        "  )\n",
        "  print(f\"Saving TensorBoard log files to: {log_dir}\")\n",
        "  return tensorboard_callback"
      ]
    },
    {
      "cell_type": "markdown",
      "metadata": {
        "id": "11TjBJQXdCyZ"
      },
      "source": [
        "Because you're likely to run multiple experiments, it's a good idea to be able to track them in some way.\n",
        "\n",
        "In our case, our function saves a model's performance logs to a directory named `[dir_name]/[experiment_name]/[current_timestamp]`, where:\n",
        "* `dir_name` is the overall logs directory\n",
        "* `experiment_name` is the particular experiment\n",
        "* `current_timestamp` is the time the experiment started based on Python's [`datetime.datetime().now()`](https://docs.python.org/3/library/datetime.html#datetime.datetime.now)\n",
        "\n",
        "> 🔑 **Note:** Depending on your use case, the above experimenting tracking naming method may work or you might require something more specific. The good news is, the TensorBoard callback makes it easy to track modelling logs as long as you specify where to track them. So you can get as creative as you like with how you name your experiments, just make sure you or your team can understand them.\n",
        "\n"
      ]
    },
    {
      "cell_type": "markdown",
      "metadata": {
        "id": "2mXArGOXXn6P"
      },
      "source": [
        "## Model 1 (10 classes)"
      ]
    },
    {
      "cell_type": "code",
      "execution_count": null,
      "metadata": {
        "colab": {
          "base_uri": "https://localhost:8080/"
        },
        "id": "cwrIl-rsLdz8",
        "outputId": "015faef0-2406-4f24-85bc-6a0bf64f8191",
        "vscode": {
          "languageId": "python"
        }
      },
      "outputs": [
        {
          "name": "stdout",
          "output_type": "stream",
          "text": [
            "Found 7500 files belonging to 10 classes.\n",
            "Found 2500 files belonging to 10 classes.\n"
          ]
        }
      ],
      "source": [
        "# Create BatchDataset\n",
        "train_data, test_data = create_data_loaders(train_dir=\"10_food_classes_all_data/train/\",\n",
        "                                            test_dir=\"10_food_classes_all_data/test/\")"
      ]
    },
    {
      "cell_type": "code",
      "execution_count": null,
      "metadata": {
        "colab": {
          "base_uri": "https://localhost:8080/"
        },
        "id": "U_h12Aozqge7",
        "outputId": "530c6a46-be30-4fa3-ad6d-fc76e840eb7c",
        "vscode": {
          "languageId": "python"
        }
      },
      "outputs": [
        {
          "data": {
            "text/plain": [
              "<BatchDataset shapes: ((None, 224, 224, 3), (None, 10)), types: (tf.float32, tf.float32)>"
            ]
          },
          "execution_count": 11,
          "metadata": {
            "tags": []
          },
          "output_type": "execute_result"
        }
      ],
      "source": [
        "# What size is our data?\n",
        "train_data"
      ]
    },
    {
      "cell_type": "code",
      "execution_count": null,
      "metadata": {
        "colab": {
          "base_uri": "https://localhost:8080/"
        },
        "id": "ZSo9wTmBy6zr",
        "outputId": "f2b95a59-16f7-4efa-9cda-4b6aced9e961",
        "vscode": {
          "languageId": "python"
        }
      },
      "outputs": [
        {
          "name": "stdout",
          "output_type": "stream",
          "text": [
            "Saving TensorBoard log files to: transfer_learning/all_data_aug/20210210-231226\n",
            "Epoch 1/5\n",
            "235/235 [==============================] - 71s 255ms/step - loss: 1.4620 - accuracy: 0.5484 - val_loss: 0.5066 - val_accuracy: 0.8536\n",
            "Epoch 2/5\n",
            "235/235 [==============================] - 50s 211ms/step - loss: 0.7201 - accuracy: 0.7819 - val_loss: 0.4265 - val_accuracy: 0.8569\n",
            "Epoch 3/5\n",
            "235/235 [==============================] - 47s 199ms/step - loss: 0.6176 - accuracy: 0.8028 - val_loss: 0.4116 - val_accuracy: 0.8618\n",
            "Epoch 4/5\n",
            "235/235 [==============================] - 47s 199ms/step - loss: 0.5606 - accuracy: 0.8227 - val_loss: 0.4060 - val_accuracy: 0.8602\n",
            "Epoch 5/5\n",
            "235/235 [==============================] - 45s 189ms/step - loss: 0.5435 - accuracy: 0.8308 - val_loss: 0.3677 - val_accuracy: 0.8750\n"
          ]
        }
      ],
      "source": [
        "# Create model\n",
        "model_1 = create_model(num_classes=len(train_data.class_names))\n",
        "\n",
        "# Fit the model\n",
        "history_1_percent = model_1.fit(train_data,\n",
        "                    epochs=5,\n",
        "                    steps_per_epoch=len(train_data),\n",
        "                    validation_data=test_data,\n",
        "                    validation_steps=int(0.25 * len(test_data)), # validate for less steps\n",
        "                    # Track model training logs\n",
        "                    callbacks=[create_tensorboard_callback(\"transfer_learning\", \"all_data_aug\")])"
      ]
    },
    {
      "cell_type": "code",
      "execution_count": null,
      "metadata": {
        "colab": {
          "base_uri": "https://localhost:8080/"
        },
        "id": "wUKJxKVaY3aA",
        "outputId": "2aa249cd-9223-41b7-b9ee-0490b5f49ab0",
        "vscode": {
          "languageId": "python"
        }
      },
      "outputs": [
        {
          "name": "stdout",
          "output_type": "stream",
          "text": [
            "--2021-02-10 23:18:11--  https://raw.githubusercontent.com/mrdbourke/tensorflow-deep-learning/main/images/03-pizza-dad.jpeg\n",
            "Resolving raw.githubusercontent.com (raw.githubusercontent.com)... 185.199.108.133, 185.199.109.133, 185.199.110.133, ...\n",
            "Connecting to raw.githubusercontent.com (raw.githubusercontent.com)|185.199.108.133|:443... connected.\n",
            "HTTP request sent, awaiting response... 200 OK\n",
            "Length: 2874848 (2.7M) [image/jpeg]\n",
            "Saving to: ‘03-pizza-dad.jpeg’\n",
            "\n",
            "03-pizza-dad.jpeg   100%[===================>]   2.74M  --.-KB/s    in 0.1s    \n",
            "\n",
            "2021-02-10 23:18:11 (27.7 MB/s) - ‘03-pizza-dad.jpeg’ saved [2874848/2874848]\n",
            "\n"
          ]
        }
      ],
      "source": [
        "# Get an image Tensor\n",
        "!wget https://raw.githubusercontent.com/mrdbourke/tensorflow-deep-learning/main/images/03-pizza-dad.jpeg"
      ]
    },
    {
      "cell_type": "code",
      "execution_count": null,
      "metadata": {
        "colab": {
          "base_uri": "https://localhost:8080/"
        },
        "id": "a3SwO_LAqHAM",
        "outputId": "61055710-bec2-4832-a753-1cb576444c27",
        "vscode": {
          "languageId": "python"
        }
      },
      "outputs": [
        {
          "data": {
            "text/plain": [
              "['chicken_curry',\n",
              " 'chicken_wings',\n",
              " 'fried_rice',\n",
              " 'grilled_salmon',\n",
              " 'hamburger',\n",
              " 'ice_cream',\n",
              " 'pizza',\n",
              " 'ramen',\n",
              " 'steak',\n",
              " 'sushi']"
            ]
          },
          "execution_count": 14,
          "metadata": {
            "tags": []
          },
          "output_type": "execute_result"
        }
      ],
      "source": [
        "# Classes our model is trained on\n",
        "class_names = train_data.class_names\n",
        "class_names"
      ]
    },
    {
      "cell_type": "code",
      "execution_count": null,
      "metadata": {
        "colab": {
          "base_uri": "https://localhost:8080/"
        },
        "id": "p7gCXuavaDAF",
        "outputId": "2c7775a9-8c87-4409-dcb5-589226d1912d",
        "vscode": {
          "languageId": "python"
        }
      },
      "outputs": [
        {
          "data": {
            "text/plain": [
              "<tf.Tensor: shape=(224, 224, 3), dtype=float32, numpy=\n",
              "array([[[ 73.625,  76.75 ,  67.125],\n",
              "        [114.   , 122.   , 101.   ],\n",
              "        [146.875, 151.875, 129.875],\n",
              "        ...,\n",
              "        [ 14.5  ,  17.5  ,  10.5  ],\n",
              "        [ 14.25 ,  19.25 ,  12.25 ],\n",
              "        [ 19.75 ,  22.75 ,  15.75 ]],\n",
              "\n",
              "       [[239.125, 243.625, 246.125],\n",
              "        [225.375, 232.125, 234.875],\n",
              "        [240.   , 245.   , 244.5  ],\n",
              "        ...,\n",
              "        [ 11.   ,  14.   ,   7.   ],\n",
              "        [ 20.   ,  23.   ,  16.   ],\n",
              "        [ 20.875,  25.875,  18.875]],\n",
              "\n",
              "       [[ 32.5  ,  34.5  ,  31.5  ],\n",
              "        [ 44.625,  44.5  ,  42.375],\n",
              "        [ 33.   ,  38.   ,  34.   ],\n",
              "        ...,\n",
              "        [  8.75 ,  13.25 ,   6.25 ],\n",
              "        [ 14.875,  17.875,  10.875],\n",
              "        [ 13.625,  20.625,  12.625]],\n",
              "\n",
              "       ...,\n",
              "\n",
              "       [[ 61.875,  40.875,  19.875],\n",
              "        [ 60.   ,  42.   ,  22.   ],\n",
              "        [ 61.   ,  43.   ,  21.   ],\n",
              "        ...,\n",
              "        [134.5  ,  96.125,  60.75 ],\n",
              "        [104.875,  69.375,  43.125],\n",
              "        [106.25 ,  75.25 ,  46.25 ]],\n",
              "\n",
              "       [[ 62.75 ,  44.75 ,  24.75 ],\n",
              "        [ 61.125,  43.125,  23.125],\n",
              "        [ 58.125,  40.125,  20.125],\n",
              "        ...,\n",
              "        [159.125, 111.125,  64.625],\n",
              "        [160.375, 112.375,  66.375],\n",
              "        [134.   ,  94.125,  56.75 ]],\n",
              "\n",
              "       [[ 59.625,  42.625,  22.625],\n",
              "        [ 61.75 ,  43.75 ,  22.5  ],\n",
              "        [ 59.25 ,  41.25 ,  21.25 ],\n",
              "        ...,\n",
              "        [161.5  , 113.5  ,  64.5  ],\n",
              "        [159.   , 108.   ,  63.   ],\n",
              "        [155.875, 104.875,  59.875]]], dtype=float32)>"
            ]
          },
          "execution_count": 15,
          "metadata": {
            "tags": []
          },
          "output_type": "execute_result"
        }
      ],
      "source": [
        "# Preprocess image\n",
        "pizza_img = load_and_prep_image(\"03-pizza-dad.jpeg\")\n",
        "pizza_img"
      ]
    },
    {
      "cell_type": "code",
      "execution_count": null,
      "metadata": {
        "colab": {
          "base_uri": "https://localhost:8080/"
        },
        "id": "81z-ynOlabav",
        "outputId": "4e9ed977-5b2a-4e6d-85e5-9fab2680f8ef",
        "vscode": {
          "languageId": "python"
        }
      },
      "outputs": [
        {
          "data": {
            "text/plain": [
              "array([[8.2119545e-03, 3.3304928e-05, 6.2837714e-04, 1.6367142e-04,\n",
              "        3.0865319e-06, 5.1294103e-07, 9.9020046e-01, 1.2048778e-04,\n",
              "        5.5204531e-05, 5.8289926e-04]], dtype=float32)"
            ]
          },
          "execution_count": 16,
          "metadata": {
            "tags": []
          },
          "output_type": "execute_result"
        }
      ],
      "source": [
        "# Make predictions\n",
        "pizza_expanded = tf.expand_dims(pizza_img, axis=0) # expand image dimensions (224, 224, 3) -> (1, 224, 224, 3)\n",
        "pred = model_1.predict(pizza_expanded)\n",
        "pred"
      ]
    },
    {
      "cell_type": "code",
      "execution_count": null,
      "metadata": {
        "colab": {
          "base_uri": "https://localhost:8080/",
          "height": 35
        },
        "id": "jHIoie0Faoin",
        "outputId": "b6a85e7b-b9f1-42c5-a860-f79b127b8c04",
        "vscode": {
          "languageId": "python"
        }
      },
      "outputs": [
        {
          "data": {
            "application/vnd.google.colaboratory.intrinsic+json": {
              "type": "string"
            },
            "text/plain": [
              "'pizza'"
            ]
          },
          "execution_count": 17,
          "metadata": {
            "tags": []
          },
          "output_type": "execute_result"
        }
      ],
      "source": [
        "# Check the predicted class\n",
        "class_names[tf.argmax(pred[0])]"
      ]
    },
    {
      "cell_type": "markdown",
      "metadata": {
        "id": "z6mNxcPDqwQk"
      },
      "source": [
        "## Save and upload Model 1 to Google Storage\n",
        "\n",
        "We want to save our model in the TensorFlow [`SavedModel`](https://www.tensorflow.org/guide/saved_model) format because:\n",
        "  * We're going to upload our `SavedModel` to Google Storage.\n",
        "  * Then we're link our `SavedModel` to AI platform to serve it ([AI platform requires `SavedModel`](https://cloud.google.com/ai-platform/prediction/docs/deploying-models) format for model serving).\n",
        "\n",
        "We can do this using: \n",
        "1. `model.save(\"PATH_TO_SAVED_MODEL\")` to create a `SavedModel` object (our trained model).\n",
        "2. Upload the model to Google Storage using the following guide: https://cloud.google.com/storage/docs/uploading-objects#gsutil "
      ]
    },
    {
      "cell_type": "code",
      "execution_count": null,
      "metadata": {
        "colab": {
          "base_uri": "https://localhost:8080/"
        },
        "id": "h0jm4Hzdc85u",
        "outputId": "5b0e6b61-4624-4e41-bb95-afd58e94f49b",
        "vscode": {
          "languageId": "python"
        }
      },
      "outputs": [
        {
          "name": "stdout",
          "output_type": "stream",
          "text": [
            "INFO:tensorflow:Assets written to: efficientnet_model_1_10_classes/assets\n"
          ]
        }
      ],
      "source": [
        "# Save model_1\n",
        "model_1.save(\"efficientnet_model_1_10_classes\")"
      ]
    },
    {
      "cell_type": "markdown",
      "metadata": {
        "id": "o4zRwctvsQrj"
      },
      "source": [
        "The next few cells will allow you to upload files directly from Google Colab to Google Storage."
      ]
    },
    {
      "cell_type": "code",
      "execution_count": null,
      "metadata": {
        "id": "YDsYbY64bFMp",
        "vscode": {
          "languageId": "python"
        }
      },
      "outputs": [],
      "source": [
        "# Authentic Colab \n",
        "# (running this will give you a code to authentic your Google Colab instance, keep the code secret)\n",
        "from google.colab import auth\n",
        "auth.authenticate_user()"
      ]
    },
    {
      "cell_type": "markdown",
      "metadata": {
        "id": "19sjvgD2G6xF"
      },
      "source": [
        "When you run the cell below, it'll ask you a bunch of questions about setting up `gcloud`, here's an example and the answers I chose (you'll want to change the project to your specific Google Cloud project):\n",
        "\n",
        "```\n",
        "#  [1] Re-initialize this configuration [default] with new settings \n",
        "#  [2] Create a new configuration\n",
        "# Please enter your numeric choice:  1\n",
        "\n",
        "# Choose the account you would like to use to perform operations for \n",
        "# this configuration:\n",
        "#  [1] daniel@mrdbourke.com\n",
        "#  [2] Log in with a new account\n",
        "# Please enter your numeric choice:  1\n",
        "\n",
        "# Pick cloud project to use: \n",
        "#  [1] airbnb-amenity-detection\n",
        "#  [2] auto-ml-dog-vision\n",
        "#  [3] auto-ml-dog-vision-test\n",
        "#  [4] daniels-dl-playground\n",
        "#  [5] ml-kit-codelab-demo\n",
        "#  [6] nutrify-v0\n",
        "#  [7] tf-course\n",
        "#  [8] Create a new project\n",
        "# Please enter numeric choice or text value (must exactly match list \n",
        "# item):  4\n",
        "\n",
        "# Do you want to configure a default Compute Region and Zone? (Y/n)?  n\n",
        "```"
      ]
    },
    {
      "cell_type": "code",
      "execution_count": null,
      "metadata": {
        "id": "vo7ZFsIQdqTJ",
        "vscode": {
          "languageId": "python"
        }
      },
      "outputs": [],
      "source": [
        "# Install and initialize the gcloud command line tool - https://cloud.google.com/sdk/docs/install\n",
        "# (this will give you access to gcloud tools within Colab)\n",
        "!curl https://sdk.cloud.google.com | bash 1> /dev/null\n",
        "!gcloud init"
      ]
    },
    {
      "cell_type": "markdown",
      "metadata": {
        "id": "ZKZKFF1YuPJw"
      },
      "source": [
        "Once you've gone through the steps in the above cell, you'll be able to use `gcloud` utilities from Colab.\n",
        "\n",
        "The main one we're after is copying our model from Colab storage to Google Storage.\n",
        "\n",
        "For example, running:\n",
        "\n",
        "```\n",
        "# Copy local model folder to bucket named \"ml_deployment_lec_bucket_0\"\n",
        "!gsutil cp -r efficientnet_model_1_10_classes gs://ml_deploymet_lec_bucket_0\n",
        "```\n",
        "\n",
        "But the above line uses my Google Storage bucket/model, yours will look more like:\n",
        "\n",
        "```\n",
        "!gsutil cp -r YOUR_MODEL_NAME gs://YOUR_BUCKET_NAME\n",
        "```\n",
        "\n",
        "**Note:** To upload anything to a bucket, you will need an existing bucket. See the documentation on [how to create a Google Storage bucket](https://cloud.google.com/storage/docs/creating-buckets)."
      ]
    },
    {
      "cell_type": "code",
      "execution_count": null,
      "metadata": {
        "colab": {
          "base_uri": "https://localhost:8080/"
        },
        "id": "z9Xmp96WdkJD",
        "outputId": "77c962ea-9df1-45bf-b8c1-973affe473d0",
        "vscode": {
          "languageId": "python"
        }
      },
      "outputs": [
        {
          "name": "stdout",
          "output_type": "stream",
          "text": [
            "Copying file://efficientnet_model_1_10_classes/saved_model.pb [Content-Type=application/octet-stream]...\n",
            "Copying file://efficientnet_model_1_10_classes/variables/variables.data-00000-of-00001 [Content-Type=application/octet-stream]...\n",
            "Copying file://efficientnet_model_1_10_classes/variables/variables.index [Content-Type=application/octet-stream]...\n",
            "\\\n",
            "Operation completed over 3 objects/22.1 MiB.                                     \n"
          ]
        }
      ],
      "source": [
        "# Copy model to bucket - https://cloud.google.com/storage/docs/uploading-objects#gsutil \n",
        "# Use \"-r\" for folders (r stands for recursive)\n",
        "!gsutil cp -r efficientnet_model_1_10_classes gs://ml_deploymet_lec_bucket_0"
      ]
    },
    {
      "cell_type": "code",
      "execution_count": null,
      "metadata": {
        "colab": {
          "base_uri": "https://localhost:8080/"
        },
        "id": "EPzjTa_MwAHV",
        "outputId": "07dce2af-501b-4209-9ff1-30a225733f6c",
        "vscode": {
          "languageId": "python"
        }
      },
      "outputs": [
        {
          "name": "stdout",
          "output_type": "stream",
          "text": [
            "Copying file://efficientnet_model_1_10_classes/saved_model.pb [Content-Type=application/octet-stream]...\n",
            "Copying file://efficientnet_model_1_10_classes/variables/variables.data-00000-of-00001 [Content-Type=application/octet-stream]...\n",
            "Copying file://efficientnet_model_1_10_classes/variables/variables.index [Content-Type=application/octet-stream]...\n",
            "- [3 files][ 22.1 MiB/ 22.1 MiB]                                                \n",
            "Operation completed over 3 objects/22.1 MiB.                                     \n"
          ]
        }
      ],
      "source": [
        "# Copy model to bucket\n",
        "!gsutil cp -r efficientnet_model_1_10_classes gs://cs329s_live_bucket_creation"
      ]
    },
    {
      "cell_type": "code",
      "execution_count": null,
      "metadata": {
        "id": "-dZUgNMuc3Cw",
        "vscode": {
          "languageId": "python"
        }
      },
      "outputs": [],
      "source": [
        "# # Download model (to upload to GS, you could probably use gcloud cli here but whatever)\n",
        "# !zip -r /content/efficientnet_model_0_10_classes.zip /content/efficientnet_model_0_10_classes\n",
        "# from google.colab import files\n",
        "# files.download(\"/content/efficientnet_model_0_10_classes.zip\")"
      ]
    },
    {
      "cell_type": "markdown",
      "metadata": {
        "id": "f8I-_NPchy3S"
      },
      "source": [
        "## Model 2 (11 food classes)\n",
        "\n",
        "Same as model 1 but we've added the donut class."
      ]
    },
    {
      "cell_type": "code",
      "execution_count": null,
      "metadata": {
        "colab": {
          "base_uri": "https://localhost:8080/"
        },
        "id": "fOe3rxUuzg_c",
        "outputId": "9394dfd6-ccbf-4968-ebae-dbe1c5a10757",
        "vscode": {
          "languageId": "python"
        }
      },
      "outputs": [
        {
          "name": "stdout",
          "output_type": "stream",
          "text": [
            "--2021-02-02 07:20:31--  https://storage.googleapis.com/ml_deploymet_lec_bucket_0/11_food_classes_all_data.zip\n",
            "Resolving storage.googleapis.com (storage.googleapis.com)... 74.125.20.128, 74.125.195.128, 142.250.99.128, ...\n",
            "Connecting to storage.googleapis.com (storage.googleapis.com)|74.125.20.128|:443... connected.\n",
            "HTTP request sent, awaiting response... 200 OK\n",
            "Length: 570914387 (544M) [application/zip]\n",
            "Saving to: ‘11_food_classes_all_data.zip.1’\n",
            "\n",
            "11_food_classes_all 100%[===================>] 544.47M   283MB/s    in 1.9s    \n",
            "\n",
            "2021-02-02 07:20:33 (283 MB/s) - ‘11_food_classes_all_data.zip.1’ saved [570914387/570914387]\n",
            "\n"
          ]
        }
      ],
      "source": [
        "# Get data\n",
        "import zipfile\n",
        "\n",
        "# Download data\n",
        "!wget https://storage.googleapis.com/ml_deploymet_lec_bucket_0/11_food_classes_all_data.zip # note: this may be broken if using well beyond Feb 10 2021\n",
        "unzip_data(\"11_food_classes_all_data.zip\")"
      ]
    },
    {
      "cell_type": "code",
      "execution_count": null,
      "metadata": {
        "colab": {
          "base_uri": "https://localhost:8080/"
        },
        "id": "grxb1zD00vcj",
        "outputId": "f26ec76f-e526-4ed8-df7a-6aff9be5bfd1",
        "vscode": {
          "languageId": "python"
        }
      },
      "outputs": [
        {
          "name": "stdout",
          "output_type": "stream",
          "text": [
            "Found 8250 files belonging to 11 classes.\n",
            "Found 2750 files belonging to 11 classes.\n"
          ]
        }
      ],
      "source": [
        "# Create data loaders\n",
        "train_data, test_data = create_data_loaders(train_dir=\"11_food_classes_all_data/train/\",\n",
        "                                            test_dir=\"11_food_classes_all_data/test/\")"
      ]
    },
    {
      "cell_type": "code",
      "execution_count": null,
      "metadata": {
        "colab": {
          "base_uri": "https://localhost:8080/"
        },
        "id": "lhMu44ulnJPb",
        "outputId": "8adfa5d0-32d4-4f36-8835-6457abc1e85a",
        "vscode": {
          "languageId": "python"
        }
      },
      "outputs": [
        {
          "data": {
            "text/plain": [
              "['chicken_curry',\n",
              " 'chicken_wings',\n",
              " 'donuts',\n",
              " 'fried_rice',\n",
              " 'grilled_salmon',\n",
              " 'hamburger',\n",
              " 'ice_cream',\n",
              " 'pizza',\n",
              " 'ramen',\n",
              " 'steak',\n",
              " 'sushi']"
            ]
          },
          "execution_count": 12,
          "metadata": {
            "tags": []
          },
          "output_type": "execute_result"
        }
      ],
      "source": [
        "train_data.class_names"
      ]
    },
    {
      "cell_type": "code",
      "execution_count": null,
      "metadata": {
        "colab": {
          "base_uri": "https://localhost:8080/"
        },
        "id": "bimrIF94ypNL",
        "outputId": "c5ab28ee-847b-43a6-a38e-b6896c28c062",
        "vscode": {
          "languageId": "python"
        }
      },
      "outputs": [
        {
          "name": "stdout",
          "output_type": "stream",
          "text": [
            "Epoch 1/5\n",
            "258/258 [==============================] - 76s 249ms/step - loss: 1.4867 - accuracy: 0.5498 - val_loss: 0.5164 - val_accuracy: 0.8497\n",
            "Epoch 2/5\n",
            "258/258 [==============================] - 56s 214ms/step - loss: 0.7410 - accuracy: 0.7740 - val_loss: 0.4438 - val_accuracy: 0.8601\n",
            "Epoch 3/5\n",
            "258/258 [==============================] - 52s 199ms/step - loss: 0.6339 - accuracy: 0.8005 - val_loss: 0.3787 - val_accuracy: 0.8765\n",
            "Epoch 4/5\n",
            "258/258 [==============================] - 50s 192ms/step - loss: 0.5804 - accuracy: 0.8139 - val_loss: 0.3722 - val_accuracy: 0.8720\n",
            "Epoch 5/5\n",
            "258/258 [==============================] - 48s 185ms/step - loss: 0.5594 - accuracy: 0.8187 - val_loss: 0.3605 - val_accuracy: 0.8780\n"
          ]
        }
      ],
      "source": [
        "# Create model\n",
        "model_2 = create_model(num_classes=len(train_data.class_names))\n",
        "\n",
        "# Fit model\n",
        "history_2 = model_2.fit(train_data,\n",
        "                        epochs=5,\n",
        "                        validation_data=test_data,\n",
        "                        validation_steps=int(0.25*len(test_data)))"
      ]
    },
    {
      "cell_type": "code",
      "execution_count": null,
      "metadata": {
        "colab": {
          "base_uri": "https://localhost:8080/"
        },
        "id": "AKIg0TGqnm8f",
        "outputId": "f3b1cdad-dd01-441a-9154-ce35f37826df",
        "vscode": {
          "languageId": "python"
        }
      },
      "outputs": [
        {
          "data": {
            "text/plain": [
              "array([[9.0466682e-03, 4.5336943e-05, 9.9710169e-06, 6.5794133e-04,\n",
              "        3.1481599e-04, 3.2332186e-06, 2.0485681e-06, 9.8864961e-01,\n",
              "        2.1775642e-04, 4.8929705e-05, 1.0036530e-03]], dtype=float32)"
            ]
          },
          "execution_count": 14,
          "metadata": {
            "tags": []
          },
          "output_type": "execute_result"
        }
      ],
      "source": [
        "pizza_expanded = tf.expand_dims(pizza_img, axis=0)\n",
        "pred = model_2.predict(pizza_expanded)\n",
        "pred"
      ]
    },
    {
      "cell_type": "code",
      "execution_count": null,
      "metadata": {
        "colab": {
          "base_uri": "https://localhost:8080/"
        },
        "id": "LlT5jOIb3RM4",
        "outputId": "5bf81651-5457-4df8-f9f3-cd948b72f65c",
        "vscode": {
          "languageId": "python"
        }
      },
      "outputs": [
        {
          "name": "stdout",
          "output_type": "stream",
          "text": [
            "INFO:tensorflow:Assets written to: efficientnet_model_2_11_classes/assets\n"
          ]
        }
      ],
      "source": [
        "# Save model_2...\n",
        "model_2.save(\"efficientnet_model_2_11_classes\")"
      ]
    },
    {
      "cell_type": "markdown",
      "metadata": {
        "id": "2ubWlHH6HZ1e"
      },
      "source": [
        "## Upload Model 2 to Google Storage"
      ]
    },
    {
      "cell_type": "code",
      "execution_count": null,
      "metadata": {
        "id": "KIzFU2H34tgF",
        "vscode": {
          "languageId": "python"
        }
      },
      "outputs": [],
      "source": [
        "# Auth Colab\n",
        "from google.colab import auth\n",
        "auth.authenticate_user()\n",
        "!curl https://sdk.cloud.google.com | bash 1> /dev/null\n",
        "!gcloud init"
      ]
    },
    {
      "cell_type": "code",
      "execution_count": null,
      "metadata": {
        "colab": {
          "base_uri": "https://localhost:8080/"
        },
        "id": "U4vbfR7c48LG",
        "outputId": "f25c7bd4-84e1-46b6-9f19-0b00b9605ed7",
        "vscode": {
          "languageId": "python"
        }
      },
      "outputs": [
        {
          "name": "stdout",
          "output_type": "stream",
          "text": [
            "Copying file://efficientnet_model_2_11_classes/saved_model.pb [Content-Type=application/octet-stream]...\n",
            "Copying file://efficientnet_model_2_11_classes/variables/variables.data-00000-of-00001 [Content-Type=application/octet-stream]...\n",
            "Copying file://efficientnet_model_2_11_classes/variables/variables.index [Content-Type=application/octet-stream]...\n",
            "- [3 files][ 22.1 MiB/ 22.1 MiB]                                                \n",
            "Operation completed over 3 objects/22.1 MiB.                                     \n"
          ]
        }
      ],
      "source": [
        "# Upload to GS (requires auth)\n",
        "!gsutil cp -r efficientnet_model_2_11_classes gs://ml_deploymet_lec_bucket_0"
      ]
    },
    {
      "cell_type": "markdown",
      "metadata": {
        "id": "f89CHkkT3Ujd"
      },
      "source": [
        "## Model 3 (11 food classes + 5000 non-food images, 12 classes total)\n",
        "\n",
        "* 11 food classes are same as model 2 above.\n",
        "* 1 `not_food` class is comprised of ~5000 randomly downloaded images from ImageNet (500 random classes and 10 random images within each of those classes).\n",
        "  * To do this, I used the script at: https://github.com/mf1024/ImageNet-Datasets-Downloader "
      ]
    },
    {
      "cell_type": "code",
      "execution_count": null,
      "metadata": {
        "id": "m2ZEO1A03ZsV",
        "vscode": {
          "languageId": "python"
        }
      },
      "outputs": [],
      "source": [
        "# Get data\n",
        "import zipfile\n",
        "\n",
        "# Download data\n",
        "!wget https://storage.googleapis.com/ml_deploymet_lec_bucket_0/11_food_classes_plus_not_food_class_all_data.zip # note: this may be broken if using well beyond Feb 10 2021\n",
        "unzip_data(\"11_food_classes_plus_not_food_class_all_data.zip\")"
      ]
    },
    {
      "cell_type": "code",
      "execution_count": null,
      "metadata": {
        "colab": {
          "base_uri": "https://localhost:8080/"
        },
        "id": "-h_tQU40__4B",
        "outputId": "e9774a6b-4930-4d1c-ce51-5aaf7bbf4c47",
        "vscode": {
          "languageId": "python"
        }
      },
      "outputs": [
        {
          "name": "stdout",
          "output_type": "stream",
          "text": [
            "Found 14343 files belonging to 12 classes.\n",
            "Found 4273 files belonging to 12 classes.\n"
          ]
        }
      ],
      "source": [
        "# Create data loaders\n",
        "train_data, test_data = create_data_loaders(train_dir=\"11_food_classes_plus_not_food_class_all_data/train/\",\n",
        "                                            test_dir=\"11_food_classes_plus_not_food_class_all_data/test/\")"
      ]
    },
    {
      "cell_type": "code",
      "execution_count": null,
      "metadata": {
        "colab": {
          "base_uri": "https://localhost:8080/"
        },
        "id": "iYuvw9xnACbC",
        "outputId": "f4c35d94-dfd0-4ddc-a7d2-900412e487e4",
        "vscode": {
          "languageId": "python"
        }
      },
      "outputs": [
        {
          "name": "stdout",
          "output_type": "stream",
          "text": [
            "Epoch 1/5\n",
            "449/449 [==============================] - 117s 235ms/step - loss: 1.2646 - accuracy: 0.6447 - val_loss: 0.5087 - val_accuracy: 0.8778\n",
            "Epoch 2/5\n",
            "449/449 [==============================] - 88s 195ms/step - loss: 0.6192 - accuracy: 0.8225 - val_loss: 0.4408 - val_accuracy: 0.8873\n",
            "Epoch 3/5\n",
            "449/449 [==============================] - 84s 186ms/step - loss: 0.5418 - accuracy: 0.8443 - val_loss: 0.4145 - val_accuracy: 0.8864\n",
            "Epoch 4/5\n",
            "449/449 [==============================] - 78s 173ms/step - loss: 0.5053 - accuracy: 0.8512 - val_loss: 0.4024 - val_accuracy: 0.8864\n",
            "Epoch 5/5\n",
            "449/449 [==============================] - 77s 170ms/step - loss: 0.4768 - accuracy: 0.8578 - val_loss: 0.3706 - val_accuracy: 0.8873\n"
          ]
        }
      ],
      "source": [
        "# Create model\n",
        "model_3 = create_model(num_classes=len(train_data.class_names))\n",
        "\n",
        "# Fit model\n",
        "history_3 = model_3.fit(train_data,\n",
        "                        epochs=5,\n",
        "                        validation_data=test_data,\n",
        "                        validation_steps=int(0.25*len(test_data)))"
      ]
    },
    {
      "cell_type": "code",
      "execution_count": null,
      "metadata": {
        "colab": {
          "base_uri": "https://localhost:8080/"
        },
        "id": "FhJf4JqnAEgk",
        "outputId": "be56b233-f112-48bf-9ce5-11c361bc48e8",
        "vscode": {
          "languageId": "python"
        }
      },
      "outputs": [
        {
          "name": "stdout",
          "output_type": "stream",
          "text": [
            "INFO:tensorflow:Assets written to: efficientnet_model_3_12_classes/assets\n"
          ]
        }
      ],
      "source": [
        "# Save model_3...\n",
        "model_3.save(\"efficientnet_model_3_12_classes\")"
      ]
    },
    {
      "cell_type": "code",
      "execution_count": null,
      "metadata": {
        "colab": {
          "base_uri": "https://localhost:8080/"
        },
        "id": "X3rKYI4cNmgZ",
        "outputId": "cdb49b46-901d-4869-f032-aadfd902dba4",
        "vscode": {
          "languageId": "python"
        }
      },
      "outputs": [
        {
          "name": "stdout",
          "output_type": "stream",
          "text": [
            "134/134 [==============================] - 17s 124ms/step - loss: 0.4300 - accuracy: 0.8781\n"
          ]
        },
        {
          "data": {
            "text/plain": [
              "[0.4300059676170349, 0.8780716061592102]"
            ]
          },
          "execution_count": 11,
          "metadata": {
            "tags": []
          },
          "output_type": "execute_result"
        }
      ],
      "source": [
        "model_3.evaluate(test_data)"
      ]
    },
    {
      "cell_type": "markdown",
      "metadata": {
        "id": "IthAoLz7Hf9r"
      },
      "source": [
        "## Upload Model 3 to Google Storage"
      ]
    },
    {
      "cell_type": "code",
      "execution_count": null,
      "metadata": {
        "id": "H-w8VfVyMAob",
        "vscode": {
          "languageId": "python"
        }
      },
      "outputs": [],
      "source": [
        "# Auth Colab\n",
        "from google.colab import auth\n",
        "auth.authenticate_user()\n",
        "!curl https://sdk.cloud.google.com | bash 1> /dev/null\n",
        "!gcloud init"
      ]
    },
    {
      "cell_type": "code",
      "execution_count": null,
      "metadata": {
        "colab": {
          "base_uri": "https://localhost:8080/"
        },
        "id": "XlG4n046MB0t",
        "outputId": "2c6bdeb7-42a4-4d32-d2f9-d430835dc81c",
        "vscode": {
          "languageId": "python"
        }
      },
      "outputs": [
        {
          "name": "stdout",
          "output_type": "stream",
          "text": [
            "Copying file://efficientnet_model_3_12_classes/saved_model.pb [Content-Type=application/octet-stream]...\n",
            "Copying file://efficientnet_model_3_12_classes/variables/variables.data-00000-of-00001 [Content-Type=application/octet-stream]...\n",
            "Copying file://efficientnet_model_3_12_classes/variables/variables.index [Content-Type=application/octet-stream]...\n",
            "- [3 files][ 22.1 MiB/ 22.1 MiB]                                                \n",
            "Operation completed over 3 objects/22.1 MiB.                                     \n"
          ]
        }
      ],
      "source": [
        "# Upload to GS (requires auth)\n",
        "!gsutil cp -r efficientnet_model_3_12_classes gs://ml_deploymet_lec_bucket_0"
      ]
    },
    {
      "cell_type": "markdown",
      "metadata": {
        "id": "yivB8oTIIebA"
      },
      "source": [
        "## Get test non-food image and make predictions"
      ]
    },
    {
      "cell_type": "code",
      "execution_count": 14,
      "metadata": {
        "colab": {
          "base_uri": "https://localhost:8080/"
        },
        "id": "0elI0uUSIiVa",
        "outputId": "88f75ec3-ade3-4de2-eded-aeca099ea26e",
        "vscode": {
          "languageId": "python"
        }
      },
      "outputs": [
        {
          "name": "stdout",
          "output_type": "stream",
          "text": [
            "--2021-02-14 06:02:51--  https://raw.githubusercontent.com/mrdbourke/cs329s-ml-deployment-tutorial/main/food-images/plant.jpeg\n",
            "Resolving raw.githubusercontent.com (raw.githubusercontent.com)... 185.199.110.133, 185.199.109.133, 185.199.111.133, ...\n",
            "Connecting to raw.githubusercontent.com (raw.githubusercontent.com)|185.199.110.133|:443... connected.\n",
            "HTTP request sent, awaiting response... 200 OK\n",
            "Length: 542790 (530K) [image/jpeg]\n",
            "Saving to: ‘plant.jpeg’\n",
            "\n",
            "\rplant.jpeg            0%[                    ]       0  --.-KB/s               \rplant.jpeg          100%[===================>] 530.07K  --.-KB/s    in 0.03s   \n",
            "\n",
            "2021-02-14 06:02:51 (17.9 MB/s) - ‘plant.jpeg’ saved [542790/542790]\n",
            "\n"
          ]
        }
      ],
      "source": [
        "!wget https://raw.githubusercontent.com/mrdbourke/cs329s-ml-deployment-tutorial/main/food-images/plant.jpeg"
      ]
    },
    {
      "cell_type": "code",
      "execution_count": null,
      "metadata": {
        "colab": {
          "base_uri": "https://localhost:8080/"
        },
        "id": "sGcZLtMLOJXa",
        "outputId": "970af992-bab7-4747-8b08-68be7a3f119e",
        "vscode": {
          "languageId": "python"
        }
      },
      "outputs": [
        {
          "data": {
            "text/plain": [
              "<tf.Tensor: shape=(224, 224, 3), dtype=int32, numpy=\n",
              "array([[[110,  96,  95],\n",
              "        [107,  93,  92],\n",
              "        [ 88,  74,  71],\n",
              "        ...,\n",
              "        [141, 155, 164],\n",
              "        [207, 210, 209],\n",
              "        [242, 241, 237]],\n",
              "\n",
              "       [[117, 106, 104],\n",
              "        [117, 106, 103],\n",
              "        [116, 105, 101],\n",
              "        ...,\n",
              "        [132, 144, 152],\n",
              "        [207, 207, 208],\n",
              "        [202, 199, 201]],\n",
              "\n",
              "       [[107,  96,  92],\n",
              "        [119, 108, 104],\n",
              "        [102,  91,  87],\n",
              "        ...,\n",
              "        [177, 187, 189],\n",
              "        [206, 204, 202],\n",
              "        [204, 200, 197]],\n",
              "\n",
              "       ...,\n",
              "\n",
              "       [[ 20,  70,  49],\n",
              "        [ 37,  79,  57],\n",
              "        [111, 159, 133],\n",
              "        ...,\n",
              "        [122, 175, 142],\n",
              "        [ 84, 143, 110],\n",
              "        [ 49, 116,  80]],\n",
              "\n",
              "       [[120, 154, 131],\n",
              "        [137, 164, 147],\n",
              "        [108, 127, 111],\n",
              "        ...,\n",
              "        [103, 169, 133],\n",
              "        [ 46,  95,  66],\n",
              "        [ 83, 143, 110]],\n",
              "\n",
              "       [[ 43,  83,  62],\n",
              "        [ 20,  49,  31],\n",
              "        [ 33,  74,  54],\n",
              "        ...,\n",
              "        [ 53, 117,  80],\n",
              "        [ 22,  69,  35],\n",
              "        [ 63, 129,  93]]], dtype=int32)>"
            ]
          },
          "execution_count": 29,
          "metadata": {
            "tags": []
          },
          "output_type": "execute_result"
        }
      ],
      "source": [
        "plant = load_and_prep_image(\"plant.jpeg\")\n",
        "plant = tf.cast(tf.round(plant), dtype=tf.int32)\n",
        "plant"
      ]
    },
    {
      "cell_type": "code",
      "execution_count": null,
      "metadata": {
        "colab": {
          "base_uri": "https://localhost:8080/"
        },
        "id": "X28-g67qQAaL",
        "outputId": "1cf5a8b2-7963-49eb-ce38-90b1496b2ded",
        "vscode": {
          "languageId": "python"
        }
      },
      "outputs": [
        {
          "data": {
            "text/plain": [
              "array([[1.14653085e-04, 3.54328367e-04, 1.86755587e-05, 5.58937667e-04,\n",
              "        2.95464328e-04, 4.18224517e-04, 1.86513625e-02, 9.65816736e-01,\n",
              "        2.96051439e-05, 6.32123483e-05, 6.92888675e-03, 6.74987910e-03]],\n",
              "      dtype=float32)"
            ]
          },
          "execution_count": 30,
          "metadata": {
            "tags": []
          },
          "output_type": "execute_result"
        }
      ],
      "source": [
        "model_3.predict(tf.expand_dims(plant, axis=0))"
      ]
    },
    {
      "cell_type": "markdown",
      "metadata": {
        "id": "Q2hqgWyEHl4R"
      },
      "source": [
        "# Make and plot test predictions"
      ]
    },
    {
      "cell_type": "code",
      "execution_count": null,
      "metadata": {
        "id": "aw2rajQyOr7s",
        "vscode": {
          "languageId": "python"
        }
      },
      "outputs": [],
      "source": [
        "import matplotlib.pyplot as plt\n",
        "\n",
        "def pred_and_plot(model, image, class_names):\n",
        "  pred_probs = model.predict(tf.expand_dims(image, axis=0))\n",
        "  pred_class = class_names[tf.argmax(pred_probs[0])]\n",
        "  \n",
        "  plt.figure()\n",
        "  plt.imshow(image)\n",
        "  plt.title(f\"{pred_class}, prob: {tf.reduce_max(pred_probs):.2f}\")\n",
        "  plt.axis(False);"
      ]
    },
    {
      "cell_type": "code",
      "execution_count": null,
      "metadata": {
        "colab": {
          "base_uri": "https://localhost:8080/",
          "height": 264
        },
        "id": "iGFwjYKIP0NL",
        "outputId": "27df69b7-6f3a-4ad0-a6d2-f495a5183f79",
        "vscode": {
          "languageId": "python"
        }
      },
      "outputs": [
        {
          "data": {
            "image/png": "[encoded data removed]",
            "text/plain": [
              "<Figure size 432x288 with 1 Axes>"
            ]
          },
          "metadata": {
            "needs_background": "light",
            "tags": []
          },
          "output_type": "display_data"
        }
      ],
      "source": [
        "pred_and_plot(model=model_3,\n",
        "              image=plant,\n",
        "              class_names=train_data.class_names)"
      ]
    },
    {
      "cell_type": "code",
      "execution_count": null,
      "metadata": {
        "colab": {
          "base_uri": "https://localhost:8080/"
        },
        "id": "NtaVNwxWP4-A",
        "outputId": "5883894d-287e-4a7a-ba55-edfa96e49c29",
        "vscode": {
          "languageId": "python"
        }
      },
      "outputs": [
        {
          "data": {
            "text/plain": [
              "['chicken_curry',\n",
              " 'chicken_wings',\n",
              " 'donuts',\n",
              " 'fried_rice',\n",
              " 'grilled_salmon',\n",
              " 'hamburger',\n",
              " 'ice_cream',\n",
              " 'not_food',\n",
              " 'pizza',\n",
              " 'ramen',\n",
              " 'steak',\n",
              " 'sushi']"
            ]
          },
          "execution_count": 18,
          "metadata": {
            "tags": []
          },
          "output_type": "execute_result"
        }
      ],
      "source": [
        "train_data.class_names"
      ]
    },
    {
      "cell_type": "markdown",
      "metadata": {
        "id": "BUW1AprHQgHt"
      },
      "source": [
        "## Model 4 (experiment)\n",
        "\n",
        "Going to use same model as #3 but try mixed precision training and see what happens.\n",
        "\n",
        "See: https://www.tensorflow.org/guide/mixed_precision"
      ]
    },
    {
      "cell_type": "code",
      "execution_count": null,
      "metadata": {
        "colab": {
          "base_uri": "https://localhost:8080/"
        },
        "id": "pa2mlpw3Qruv",
        "outputId": "aa4fefe3-dbd9-4a27-f8af-24a4b487e23f",
        "vscode": {
          "languageId": "python"
        }
      },
      "outputs": [
        {
          "name": "stdout",
          "output_type": "stream",
          "text": [
            "GPU 0: Tesla T4 (UUID: GPU-6c111d17-da04-3fff-27c9-ca59a1321b70)\n"
          ]
        }
      ],
      "source": [
        "!nvidia-smi -L"
      ]
    },
    {
      "cell_type": "code",
      "execution_count": null,
      "metadata": {
        "colab": {
          "base_uri": "https://localhost:8080/"
        },
        "id": "yoNj3STVQhfv",
        "outputId": "3771ae3c-4acd-4ecd-e6b3-dde1e3f842bf",
        "vscode": {
          "languageId": "python"
        }
      },
      "outputs": [
        {
          "name": "stdout",
          "output_type": "stream",
          "text": [
            "2.4.1\n"
          ]
        }
      ],
      "source": [
        "import tensorflow as tf\n",
        "from tensorflow.keras import mixed_precision\n",
        "\n",
        "print(tf.__version__)"
      ]
    },
    {
      "cell_type": "code",
      "execution_count": null,
      "metadata": {
        "colab": {
          "base_uri": "https://localhost:8080/"
        },
        "id": "DpzZGuAiQ42P",
        "outputId": "38662ab0-ad73-4327-a3e0-3d57cd7357b4",
        "vscode": {
          "languageId": "python"
        }
      },
      "outputs": [
        {
          "name": "stdout",
          "output_type": "stream",
          "text": [
            "INFO:tensorflow:Mixed precision compatibility check (mixed_float16): OK\n",
            "Your GPU will likely run quickly with dtype policy mixed_float16 as it has compute capability of at least 7.0. Your GPU: Tesla T4, compute capability 7.5\n"
          ]
        }
      ],
      "source": [
        "# Set mixed precision to float16 & float32\n",
        "mixed_precision.set_global_policy(\"mixed_float16\")"
      ]
    },
    {
      "cell_type": "code",
      "execution_count": null,
      "metadata": {
        "colab": {
          "base_uri": "https://localhost:8080/"
        },
        "id": "Kb9ZuxlqR4cr",
        "outputId": "a6bdb7bf-80af-4300-ed5c-564e39054906",
        "vscode": {
          "languageId": "python"
        }
      },
      "outputs": [
        {
          "name": "stdout",
          "output_type": "stream",
          "text": [
            "--2021-02-03 23:44:36--  https://storage.googleapis.com/ml_deploymet_lec_bucket_0/11_food_classes_plus_not_food_class_all_data.zip\n",
            "Resolving storage.googleapis.com (storage.googleapis.com)... 74.125.195.128, 74.125.142.128, 74.125.20.128, ...\n",
            "Connecting to storage.googleapis.com (storage.googleapis.com)|74.125.195.128|:443... connected.\n",
            "HTTP request sent, awaiting response... 200 OK\n",
            "Length: 1053780900 (1005M) [application/zip]\n",
            "Saving to: ‘11_food_classes_plus_not_food_class_all_data.zip.1’\n",
            "\n",
            "11_food_classes_plu 100%[===================>]   1005M   202MB/s    in 4.9s    \n",
            "\n",
            "2021-02-03 23:44:41 (204 MB/s) - ‘11_food_classes_plus_not_food_class_all_data.zip.1’ saved [1053780900/1053780900]\n",
            "\n"
          ]
        }
      ],
      "source": [
        "# Get data\n",
        "import zipfile\n",
        "\n",
        "# Download data\n",
        "!wget https://storage.googleapis.com/ml_deploymet_lec_bucket_0/11_food_classes_plus_not_food_class_all_data.zip # note: this may be broken if using well beyond Feb 10 2021\n",
        "unzip_data(\"11_food_classes_plus_not_food_class_all_data.zip\")"
      ]
    },
    {
      "cell_type": "code",
      "execution_count": null,
      "metadata": {
        "colab": {
          "base_uri": "https://localhost:8080/"
        },
        "id": "jILF46l8R4c0",
        "outputId": "67ee54bf-f147-435a-bd4d-4f9526223ad7",
        "vscode": {
          "languageId": "python"
        }
      },
      "outputs": [
        {
          "name": "stdout",
          "output_type": "stream",
          "text": [
            "Found 14343 files belonging to 12 classes.\n",
            "Found 4273 files belonging to 12 classes.\n"
          ]
        }
      ],
      "source": [
        "# Create data loaders\n",
        "train_data, test_data = create_data_loaders(train_dir=\"11_food_classes_plus_not_food_class_all_data/train/\",\n",
        "                                            test_dir=\"11_food_classes_plus_not_food_class_all_data/test/\")"
      ]
    },
    {
      "cell_type": "code",
      "execution_count": null,
      "metadata": {
        "colab": {
          "base_uri": "https://localhost:8080/"
        },
        "id": "NmHVq--pUcAR",
        "outputId": "8f87c64b-a67a-4d29-8bf3-3d20b9af3330",
        "vscode": {
          "languageId": "python"
        }
      },
      "outputs": [
        {
          "data": {
            "text/plain": [
              "<TakeDataset shapes: ((None, 224, 224, 3), (None, 12)), types: (tf.float32, tf.float32)>"
            ]
          },
          "execution_count": 24,
          "metadata": {
            "tags": []
          },
          "output_type": "execute_result"
        }
      ],
      "source": [
        "train_data.take(1)"
      ]
    },
    {
      "cell_type": "code",
      "execution_count": null,
      "metadata": {
        "colab": {
          "base_uri": "https://localhost:8080/"
        },
        "id": "I3dklhdTR4c1",
        "outputId": "16074a22-0045-4d3e-906e-a121af4cd079",
        "vscode": {
          "languageId": "python"
        }
      },
      "outputs": [
        {
          "name": "stdout",
          "output_type": "stream",
          "text": [
            "<dtype: 'float16'>\n",
            "<dtype: 'float32'>\n"
          ]
        }
      ],
      "source": [
        "# Create model (with mixed precision training)\n",
        "def create_model(input_shape=INPUT_SHAPE, base_model=BASE_MODEL, num_classes=10):\n",
        "  # Fine-tune?\n",
        "  base_model.trainable = False\n",
        "\n",
        "  # Create input layer\n",
        "  inputs = layers.Input(shape=input_shape, name=\"input_layer\")\n",
        "\n",
        "  # Add in data augmentation Sequential model as a layer\n",
        "  x = data_augmentation(inputs)\n",
        "\n",
        "  # Give base_model inputs (after augmentation) and don't train it\n",
        "  x = base_model(x, training=False)\n",
        "\n",
        "  # Pool output features of base model\n",
        "  x = layers.GlobalAveragePooling2D(name=\"global_average_pooling_layer\")(x)\n",
        "\n",
        "  # Put a dense layer on as the output\n",
        "  x = layers.Dense(num_classes, name=\"dense_layer\")(x)\n",
        "\n",
        "  print(x.dtype)\n",
        "\n",
        "  ## NOTE: Mixed precision requires a separate output activation\n",
        "  outputs = layers.Activation(activation=\"softmax\", dtype=tf.float32, name=\"predictions\")(x)\n",
        "\n",
        "  print(outputs.dtype)\n",
        "  \n",
        "  # Make a model with inputs and outputs\n",
        "  model = keras.Model(inputs, outputs)\n",
        "\n",
        "  # Compile the model\n",
        "  model.compile(loss=\"categorical_crossentropy\",\n",
        "                optimizer=tf.keras.optimizers.Adam(),\n",
        "                metrics=[\"accuracy\"])\n",
        "  \n",
        "  return model\n",
        "\n",
        "model_4 = create_model(num_classes=len(train_data.class_names))"
      ]
    },
    {
      "cell_type": "code",
      "execution_count": null,
      "metadata": {
        "colab": {
          "base_uri": "https://localhost:8080/"
        },
        "id": "4bbPH5TDUqr6",
        "outputId": "502a0efd-3539-4151-e2ca-b4fd61cf4fd9",
        "vscode": {
          "languageId": "python"
        }
      },
      "outputs": [
        {
          "name": "stdout",
          "output_type": "stream",
          "text": [
            "Model: \"model_1\"\n",
            "_________________________________________________________________\n",
            "Layer (type)                 Output Shape              Param #   \n",
            "=================================================================\n",
            "input_layer (InputLayer)     [(None, 224, 224, 3)]     0         \n",
            "_________________________________________________________________\n",
            "data_augmentation (Sequentia (None, None, None, 3)     0         \n",
            "_________________________________________________________________\n",
            "efficientnetb0 (Functional)  (None, None, None, 1280)  4049571   \n",
            "_________________________________________________________________\n",
            "global_average_pooling_layer (None, 1280)              0         \n",
            "_________________________________________________________________\n",
            "dense_layer (Dense)          (None, 12)                15372     \n",
            "_________________________________________________________________\n",
            "predictions (Activation)     (None, 12)                0         \n",
            "=================================================================\n",
            "Total params: 4,064,943\n",
            "Trainable params: 15,372\n",
            "Non-trainable params: 4,049,571\n",
            "_________________________________________________________________\n"
          ]
        }
      ],
      "source": [
        "model_4.summary()"
      ]
    },
    {
      "cell_type": "code",
      "execution_count": null,
      "metadata": {
        "colab": {
          "base_uri": "https://localhost:8080/"
        },
        "id": "NkiOhbofUsYA",
        "outputId": "f6704048-03a7-4589-ba05-3e22605f00d7",
        "vscode": {
          "languageId": "python"
        }
      },
      "outputs": [
        {
          "name": "stdout",
          "output_type": "stream",
          "text": [
            "float32\n",
            "<Policy \"mixed_float16\">\n"
          ]
        }
      ],
      "source": [
        "print(model_4.layers[3].dtype)\n",
        "print(model_4.layers[3].dtype_policy)"
      ]
    },
    {
      "cell_type": "code",
      "execution_count": null,
      "metadata": {
        "colab": {
          "base_uri": "https://localhost:8080/"
        },
        "id": "8x_1PEhgSzNL",
        "outputId": "eb000509-8041-46b1-def1-d8a8db4a928c",
        "vscode": {
          "languageId": "python"
        }
      },
      "outputs": [
        {
          "name": "stdout",
          "output_type": "stream",
          "text": [
            "Epoch 1/5\n",
            "449/449 [==============================] - 70s 131ms/step - loss: 1.2719 - accuracy: 0.6387 - val_loss: 0.5272 - val_accuracy: 0.8665\n",
            "Epoch 2/5\n",
            "449/449 [==============================] - 57s 126ms/step - loss: 0.6092 - accuracy: 0.8274 - val_loss: 0.4533 - val_accuracy: 0.8788\n",
            "Epoch 3/5\n",
            "449/449 [==============================] - 57s 126ms/step - loss: 0.5427 - accuracy: 0.8433 - val_loss: 0.4074 - val_accuracy: 0.8883\n",
            "Epoch 4/5\n",
            "449/449 [==============================] - 57s 127ms/step - loss: 0.4959 - accuracy: 0.8554 - val_loss: 0.4069 - val_accuracy: 0.8949\n",
            "Epoch 5/5\n",
            "449/449 [==============================] - 57s 126ms/step - loss: 0.4815 - accuracy: 0.8568 - val_loss: 0.4127 - val_accuracy: 0.8807\n"
          ]
        }
      ],
      "source": [
        "# Fit model\n",
        "history_4 = model_4.fit(train_data,\n",
        "                        epochs=5,\n",
        "                        validation_data=test_data,\n",
        "                        validation_steps=int(0.25*len(test_data)))"
      ]
    },
    {
      "cell_type": "code",
      "execution_count": null,
      "metadata": {
        "id": "_51dKGFZVeot",
        "vscode": {
          "languageId": "python"
        }
      },
      "outputs": [],
      "source": [
        "## Model 3 (not mixed precision)\n",
        "# Epoch 1/5\n",
        "# 449/449 [==============================] - 117s 235ms/step - loss: 1.2646 - accuracy: 0.6447 - val_loss: 0.5087 - val_accuracy: 0.8778\n",
        "# Epoch 2/5\n",
        "# 449/449 [==============================] - 88s 195ms/step - loss: 0.6192 - accuracy: 0.8225 - val_loss: 0.4408 - val_accuracy: 0.8873\n",
        "# Epoch 3/5\n",
        "# 449/449 [==============================] - 84s 186ms/step - loss: 0.5418 - accuracy: 0.8443 - val_loss: 0.4145 - val_accuracy: 0.8864\n",
        "# Epoch 4/5\n",
        "# 449/449 [==============================] - 78s 173ms/step - loss: 0.5053 - accuracy: 0.8512 - val_loss: 0.4024 - val_accuracy: 0.8864\n",
        "# Epoch 5/5\n",
        "# 449/449 [==============================] - 77s 170ms/step - loss: 0.4768 - accuracy: 0.8578 - val_loss: 0.3706 - val_accuracy: 0.8873"
      ]
    },
    {
      "cell_type": "code",
      "execution_count": null,
      "metadata": {
        "vscode": {
          "languageId": "python"
        }
      },
      "outputs": [],
      "source": [
        "# Add some plots for visualisition of the model shows how they are accur."
      ]
    }
  ],
  "metadata": {
    "accelerator": "GPU",
    "colab": {
      "authorship_tag": "ABX9TyNpc09/rMn9nAU9Op2f/zuH",
      "collapsed_sections": [],
      "include_colab_link": true,
      "name": "cs329s-ml-model-deployment-model-training.ipynb",
      "provenance": []
    },
    "kernelspec": {
      "display_name": "Python 3",
      "name": "python3"
    }
  },
  "nbformat": 4,
  "nbformat_minor": 0
}
